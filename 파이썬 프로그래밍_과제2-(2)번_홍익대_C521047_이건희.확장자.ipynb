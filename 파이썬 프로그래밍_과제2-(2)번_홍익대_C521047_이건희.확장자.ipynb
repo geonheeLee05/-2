{
 "cells": [
  {
   "cell_type": "markdown",
   "id": "aa618768",
   "metadata": {},
   "source": [
    "제목: 제어문"
   ]
  },
  {
   "cell_type": "markdown",
   "id": "3df65191",
   "metadata": {},
   "source": [
    "부제목: 분기문"
   ]
  },
  {
   "cell_type": "code",
   "execution_count": 1,
   "id": "de63cd89",
   "metadata": {},
   "outputs": [
    {
     "name": "stdout",
     "output_type": "stream",
     "text": [
      "조건이 참입니다.\n",
      "조건문이 종료되었습니다.\n"
     ]
    }
   ],
   "source": [
    "if True:\n",
    "    print('조건이 참입니다.')\n",
    "print('조건문이 종료되었습니다.')"
   ]
  },
  {
   "cell_type": "code",
   "execution_count": 3,
   "id": "ece816d6",
   "metadata": {},
   "outputs": [
    {
     "name": "stdout",
     "output_type": "stream",
     "text": [
      "조건문이 종료되었습니다.\n"
     ]
    }
   ],
   "source": [
    "if False:\n",
    "    print('조건이 참입니다.')\n",
    "print('조건문이 종료되었습니다.')"
   ]
  },
  {
   "cell_type": "markdown",
   "id": "a2167830",
   "metadata": {},
   "source": [
    "부제목: if문"
   ]
  },
  {
   "cell_type": "code",
   "execution_count": 4,
   "id": "e387ef67",
   "metadata": {},
   "outputs": [
    {
     "name": "stdout",
     "output_type": "stream",
     "text": [
      "걸어간다.\n"
     ]
    }
   ],
   "source": [
    "money = 100\n",
    "\n",
    "if money <= 500:\n",
    "    print('걸어간다.')"
   ]
  },
  {
   "cell_type": "code",
   "execution_count": 5,
   "id": "1b6de442",
   "metadata": {},
   "outputs": [
    {
     "name": "stdout",
     "output_type": "stream",
     "text": [
      "택시탄다.\n"
     ]
    }
   ],
   "source": [
    "money = 1000\n",
    "\n",
    "if money <= 500:\n",
    "    print('걸어간다.')\n",
    "else:\n",
    "    print('택시탄다.')"
   ]
  },
  {
   "cell_type": "code",
   "execution_count": 6,
   "id": "4dd48e2e",
   "metadata": {},
   "outputs": [
    {
     "name": "stdout",
     "output_type": "stream",
     "text": [
      "버스탄다.\n"
     ]
    }
   ],
   "source": [
    "money = 1000\n",
    "\n",
    "if money <= 500:\n",
    "    print('걸어간다.')\n",
    "elif money <= 2500:\n",
    "    print('버스탄다.')\n",
    "else:\n",
    "    print('택시탄다.')"
   ]
  },
  {
   "cell_type": "markdown",
   "id": "15341ccf",
   "metadata": {},
   "source": [
    "부제목: 반복문"
   ]
  },
  {
   "cell_type": "code",
   "execution_count": 11,
   "id": "0dab5903",
   "metadata": {},
   "outputs": [
    {
     "name": "stdout",
     "output_type": "stream",
     "text": [
      "n= 1\n",
      "n= 2\n",
      "n= 3\n",
      "n= 4\n",
      "n= 5\n"
     ]
    }
   ],
   "source": [
    "n = 0\n",
    "\n",
    "while n < 5:\n",
    "    n = n+1\n",
    "    print('n=',n)"
   ]
  },
  {
   "cell_type": "code",
   "execution_count": 12,
   "id": "16bc56f4",
   "metadata": {},
   "outputs": [
    {
     "name": "stdout",
     "output_type": "stream",
     "text": [
      "n= 0\n",
      "n= 1\n",
      "n= 2\n",
      "n= 3\n",
      "n= 4\n",
      "n= 5\n"
     ]
    }
   ],
   "source": [
    "for n in range(0,6):\n",
    "    print('n=',n)"
   ]
  },
  {
   "cell_type": "code",
   "execution_count": 13,
   "id": "d7ec4ce2",
   "metadata": {},
   "outputs": [
    {
     "name": "stdout",
     "output_type": "stream",
     "text": [
      "item = 1\n",
      "item = 2\n",
      "item = 3\n",
      "item = 4\n",
      "item = 5\n"
     ]
    }
   ],
   "source": [
    "x_list = [1,2,3,4,5]\n",
    "\n",
    "for item in x_list:\n",
    "    print(f'{item = }')"
   ]
  },
  {
   "cell_type": "code",
   "execution_count": 14,
   "id": "c676ed39",
   "metadata": {},
   "outputs": [
    {
     "name": "stdout",
     "output_type": "stream",
     "text": [
      "<built-in function len>(x) = 5\n",
      "<built-in function max>(x) = 50\n",
      "<built-in function sum>(x) = 150\n"
     ]
    }
   ],
   "source": [
    "x = [10,20,30,40,50]\n",
    "\n",
    "for method in [len,max,sum]:\n",
    "    print(f'{method}(x) = {method(x)}')"
   ]
  },
  {
   "cell_type": "code",
   "execution_count": 15,
   "id": "c2bc425d",
   "metadata": {},
   "outputs": [
    {
     "name": "stdout",
     "output_type": "stream",
     "text": [
      "item = (0, 'a')\n",
      "item = (1, 'b')\n",
      "item = (2, 'c')\n",
      "item = (3, 'd')\n",
      "item = (4, 'e')\n"
     ]
    }
   ],
   "source": [
    "for item in enumerate(['a','b','c','d','e']):\n",
    "    print(f'{item = }')"
   ]
  },
  {
   "cell_type": "code",
   "execution_count": 16,
   "id": "aada53a5",
   "metadata": {},
   "outputs": [
    {
     "name": "stdout",
     "output_type": "stream",
     "text": [
      "i = 0, item = 'a'\n",
      "i = 1, item = 'b'\n",
      "i = 2, item = 'c'\n",
      "i = 3, item = 'd'\n",
      "i = 4, item = 'e'\n"
     ]
    }
   ],
   "source": [
    "for i, item in enumerate(['a','b','c','d','e']):\n",
    "    print(f'{i = }, {item = }')"
   ]
  },
  {
   "cell_type": "code",
   "execution_count": 17,
   "id": "d8c8c42d",
   "metadata": {},
   "outputs": [
    {
     "data": {
      "text/plain": [
       "<zip at 0x24f2544f980>"
      ]
     },
     "execution_count": 17,
     "metadata": {},
     "output_type": "execute_result"
    }
   ],
   "source": [
    "x_list = [1,2,3,4,5]\n",
    "y_tuple = ('a','b','c','d','e')\n",
    "z_str = 'ABCDE'\n",
    "\n",
    "zip(x_list, y_tuple, z_str)"
   ]
  },
  {
   "cell_type": "code",
   "execution_count": 18,
   "id": "f703788e",
   "metadata": {},
   "outputs": [
    {
     "data": {
      "text/plain": [
       "[(1, 'a', 'A'), (2, 'b', 'B'), (3, 'c', 'C'), (4, 'd', 'D'), (5, 'e', 'E')]"
      ]
     },
     "execution_count": 18,
     "metadata": {},
     "output_type": "execute_result"
    }
   ],
   "source": [
    "list(zip(x_list, y_tuple, z_str ))"
   ]
  },
  {
   "cell_type": "code",
   "execution_count": 19,
   "id": "998ffefa",
   "metadata": {},
   "outputs": [
    {
     "name": "stdout",
     "output_type": "stream",
     "text": [
      "x = 1, y = 'a', z = 'A'\n",
      "x = 2, y = 'b', z = 'B'\n",
      "x = 3, y = 'c', z = 'C'\n",
      "x = 4, y = 'd', z = 'D'\n",
      "x = 5, y = 'e', z = 'E'\n"
     ]
    }
   ],
   "source": [
    "for x,y,z in zip(x_list, y_tuple, z_str):\n",
    "    print(f'{x = }, {y = }, {z = }')"
   ]
  },
  {
   "cell_type": "code",
   "execution_count": 20,
   "id": "7926a0d2",
   "metadata": {},
   "outputs": [
    {
     "name": "stdout",
     "output_type": "stream",
     "text": [
      "i = 0, x = 1, y = 'a', z = 'A'\n",
      "i = 1, x = 2, y = 'b', z = 'B'\n",
      "i = 2, x = 3, y = 'c', z = 'C'\n",
      "i = 3, x = 4, y = 'd', z = 'D'\n",
      "i = 4, x = 5, y = 'e', z = 'E'\n"
     ]
    }
   ],
   "source": [
    "for i, (x,y,z) in enumerate(zip(x_list, y_tuple, z_str)):\n",
    "    print(f'{i = }, {x = }, {y = }, {z = }')"
   ]
  },
  {
   "cell_type": "markdown",
   "id": "6d57d252",
   "metadata": {},
   "source": [
    "부제목: break, continue, pass, exit로 제어문 통제하기"
   ]
  },
  {
   "cell_type": "code",
   "execution_count": 26,
   "id": "db8e1afe",
   "metadata": {},
   "outputs": [
    {
     "name": "stdout",
     "output_type": "stream",
     "text": [
      "i = 0, item = 'a'\n",
      "i = 1, item = 'b'\n"
     ]
    }
   ],
   "source": [
    "for i, item in enumerate(['a','b','c','d','e']):\n",
    "    if i ==2:\n",
    "        break\n",
    "    print(f'{i = }, {item = }')"
   ]
  },
  {
   "cell_type": "code",
   "execution_count": 34,
   "id": "162e760e",
   "metadata": {},
   "outputs": [
    {
     "name": "stdout",
     "output_type": "stream",
     "text": [
      "i = 4, item = 'e'\n"
     ]
    }
   ],
   "source": [
    "for i, item in enumerate(['a','b','c','d','e']):\n",
    "    if i ==2:\n",
    "        continue\n",
    "print(f'{i = }, {item = }')"
   ]
  },
  {
   "cell_type": "code",
   "execution_count": 35,
   "id": "d79c06e2",
   "metadata": {},
   "outputs": [
    {
     "name": "stdout",
     "output_type": "stream",
     "text": [
      "i = 0, item = 'a'\n",
      "i = 1, item = 'b'\n",
      "i = 2, item = 'c'\n",
      "i = 3, item = 'd'\n",
      "i = 4, item = 'e'\n"
     ]
    }
   ],
   "source": [
    "for i, item in enumerate(['a','b','c','d','e']):\n",
    "    if i ==2:\n",
    "        pass\n",
    "    print(f'{i = }, {item = }')"
   ]
  },
  {
   "cell_type": "code",
   "execution_count": null,
   "id": "bc9846e9",
   "metadata": {},
   "outputs": [],
   "source": [
    "for i, item in enumerate(['a','b','c','d','e']):\n",
    "    if i ==2:\n",
    "        exit(0)\n",
    "        print(f'{i = }, {item = }')"
   ]
  },
  {
   "cell_type": "markdown",
   "id": "25d9d28f",
   "metadata": {},
   "source": [
    "부제목: 중첩 제어문"
   ]
  },
  {
   "cell_type": "code",
   "execution_count": 1,
   "id": "9d2da0ba",
   "metadata": {},
   "outputs": [
    {
     "name": "stdout",
     "output_type": "stream",
     "text": [
      "1x1 =  1\t2x1 =  2\t3x1 =  3\t4x1 =  4\t5x1 =  5\t6x1 =  6\t7x1 =  7\t8x1 =  8\t9x1 =  9\t\n",
      "1x2 =  2\t2x2 =  4\t3x2 =  6\t4x2 =  8\t5x2 = 10\t6x2 = 12\t7x2 = 14\t8x2 = 16\t9x2 = 18\t\n",
      "1x3 =  3\t2x3 =  6\t3x3 =  9\t4x3 = 12\t5x3 = 15\t6x3 = 18\t7x3 = 21\t8x3 = 24\t9x3 = 27\t\n",
      "1x4 =  4\t2x4 =  8\t3x4 = 12\t4x4 = 16\t5x4 = 20\t6x4 = 24\t7x4 = 28\t8x4 = 32\t9x4 = 36\t\n",
      "1x5 =  5\t2x5 = 10\t3x5 = 15\t4x5 = 20\t5x5 = 25\t6x5 = 30\t7x5 = 35\t8x5 = 40\t9x5 = 45\t\n",
      "1x6 =  6\t2x6 = 12\t3x6 = 18\t4x6 = 24\t5x6 = 30\t6x6 = 36\t7x6 = 42\t8x6 = 48\t9x6 = 54\t\n",
      "1x7 =  7\t2x7 = 14\t3x7 = 21\t4x7 = 28\t5x7 = 35\t6x7 = 42\t7x7 = 49\t8x7 = 56\t9x7 = 63\t\n",
      "1x8 =  8\t2x8 = 16\t3x8 = 24\t4x8 = 32\t5x8 = 40\t6x8 = 48\t7x8 = 56\t8x8 = 64\t9x8 = 72\t\n",
      "1x9 =  9\t2x9 = 18\t3x9 = 27\t4x9 = 36\t5x9 = 45\t6x9 = 54\t7x9 = 63\t8x9 = 72\t9x9 = 81\t\n"
     ]
    }
   ],
   "source": [
    "for i in range(1,10):\n",
    "    for j in range(1,10):\n",
    "\n",
    "        print(f'{j}x{i} = {j*i:>2d}', end='\\t')\n",
    "        if j ==9:\n",
    "            print()"
   ]
  },
  {
   "cell_type": "markdown",
   "id": "b46925ef",
   "metadata": {},
   "source": [
    "if-elif-else 응용"
   ]
  },
  {
   "cell_type": "markdown",
   "id": "e7a24857",
   "metadata": {},
   "source": [
    "점수에 따라 성적 등급 매기기"
   ]
  },
  {
   "cell_type": "markdown",
   "id": "4489ab20",
   "metadata": {},
   "source": [
    "#사용자에게 점수 입력 받기"
   ]
  },
  {
   "cell_type": "code",
   "execution_count": 3,
   "id": "5a15c681",
   "metadata": {},
   "outputs": [],
   "source": [
    "score = int(input(\"점수를 입력하세요 (0~100): \"))"
   ]
  },
  {
   "cell_type": "markdown",
   "id": "154460c1",
   "metadata": {},
   "source": [
    "#if-elif-else 문으로 등급 분류"
   ]
  },
  {
   "cell_type": "code",
   "execution_count": 5,
   "id": "27f40fc5",
   "metadata": {},
   "outputs": [
    {
     "name": "stdout",
     "output_type": "stream",
     "text": [
      "등급: A\n"
     ]
    }
   ],
   "source": [
    "if score >= 90:\n",
    "    print(\"등급: A\")\n",
    "elif score >= 80:\n",
    "    print(\"등급: B\")\n",
    "elif score >= 70:\n",
    "    print(\"등급: C\")\n",
    "elif score >= 60:\n",
    "    print(\"등급: D\")\n",
    "else:\n",
    "    print(\"등급: F\")"
   ]
  }
 ],
 "metadata": {
  "kernelspec": {
   "display_name": "base",
   "language": "python",
   "name": "python3"
  },
  "language_info": {
   "codemirror_mode": {
    "name": "ipython",
    "version": 3
   },
   "file_extension": ".py",
   "mimetype": "text/x-python",
   "name": "python",
   "nbconvert_exporter": "python",
   "pygments_lexer": "ipython3",
   "version": "3.12.9"
  }
 },
 "nbformat": 4,
 "nbformat_minor": 5
}
